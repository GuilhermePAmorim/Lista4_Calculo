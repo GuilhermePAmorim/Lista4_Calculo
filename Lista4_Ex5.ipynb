{
 "cells": [
  {
   "cell_type": "code",
   "execution_count": 1,
   "id": "459fbb98",
   "metadata": {},
   "outputs": [
    {
     "name": "stdout",
     "output_type": "stream",
     "text": [
      "R² é: 0.02\n",
      "\n",
      "y(14) = 0.9999991684719722\n"
     ]
    },
    {
     "data": {
      "image/png": "[encoded data removed]",
      "text/plain": [
       "<Figure size 640x480 with 1 Axes>"
      ]
     },
     "metadata": {},
     "output_type": "display_data"
    }
   ],
   "source": [
    "import numpy as np\n",
    "import pandas as pd\n",
    "import matplotlib.pyplot as plt\n",
    "from sklearn.model_selection import train_test_split\n",
    "from sklearn.metrics import accuracy_score\n",
    "import math\n",
    "\n",
    "def sigmoid(x):\n",
    "  return 1 / (1 + math.exp(-x))\n",
    "\n",
    "# Conjunto de Treinamento\n",
    "X = [0, 1, 2, 3, 4, 5, 6, 7, 8, 9, 10, -1, -2, -3, -4]\n",
    "Y = [1, 1, 1, 1, 1, 1, 1, 1, 1, 1, 1, 0, 0, 0, 0]\n",
    "\n",
    "data = pd.DataFrame((zip(X, Y)), columns = [\"X\", \"Y\"])\n",
    "\n",
    "X = np.array([0, 1, 2, 3, 4, 5, 6, 7, 8, 9, 10, -1, -2, -3, -4])\n",
    "Y = np.array([1, 1, 1, 1, 1, 1, 1, 1, 1, 1, 1, 0, 0, 0, 0])\n",
    "\n",
    "    # Função para normalizar os dados de treinamento\n",
    "def normalizeData(data):\n",
    "    # Para cada atributo (coluna) do dataframe\n",
    "    for feature in data.columns:\n",
    "        # Obtem o maior e menor valor da coluna correspondente\n",
    "        maxValue = data[feature].max()\n",
    "        minValue = data[feature].min()\n",
    "\n",
    "        # Realiza a normalização do dado atual, para que o mesmo sempre\n",
    "        # corresponda a um valor entre 0 e 1\n",
    "        data[feature] = (data[feature] - minValue) / (maxValue - minValue)\n",
    "\n",
    "    return data\n",
    "\n",
    "\n",
    "\n",
    "data = normalizeData(data)\n",
    "\n",
    "x_media = np.mean(X) # cálculo da média de x_treino\n",
    "y_media = np.mean(Y)  # cálculo da média de y_treino\n",
    "\n",
    "a = np.sum(X * (Y - y_media)) / np.sum(X * (X - x_media)) #coeficiente angular estimado\n",
    "\n",
    "b = y_media - (a * x_media) # coeficiente linear estimado\n",
    "\n",
    "funcao = sigmoid(14) # função estimada\n",
    "\n",
    "R_quadrado = np.sum((funcao-y_media) ** 2) / np.sum((Y - y_media) ** 2) #coeficiente de determinação\n",
    "\n",
    "print(f\"R² é: {np.round(R_quadrado, 2)}\\n\")\n",
    "print(\"y(14) =\", funcao)\n",
    "\n",
    "plt.figure()\n",
    "plt.scatter(X, Y, label = \"Dados de Treino\")\n",
    "plt.xlabel(\"X de Treino\")\n",
    "plt.ylabel(\"Y de Treino\")\n",
    "plt.legend()\n",
    "plt.show()"
   ]
  }
 ],
 "metadata": {
  "kernelspec": {
   "display_name": "Python 3 (ipykernel)",
   "language": "python",
   "name": "python3"
  },
  "language_info": {
   "codemirror_mode": {
    "name": "ipython",
    "version": 3
   },
   "file_extension": ".py",
   "mimetype": "text/x-python",
   "name": "python",
   "nbconvert_exporter": "python",
   "pygments_lexer": "ipython3",
   "version": "3.9.13"
  }
 },
 "nbformat": 4,
 "nbformat_minor": 5
}
