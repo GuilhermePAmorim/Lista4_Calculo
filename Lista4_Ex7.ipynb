{
 "cells": [
  {
   "cell_type": "code",
   "execution_count": null,
   "id": "85fad3e8",
   "metadata": {},
   "outputs": [],
   "source": [
    "# Importa as bibliotecas\n",
    "import numpy as np\n",
    "import pandas as pd\n",
    "from pandas_datareader import data as pdr\n",
    "import yfinance as yf\n",
    "import matplotlib.pyplot as plt\n",
    "import riskfolio as rp\n",
    "\n",
    "yf.pdr_override()\n",
    "# Busca os preços das ações\n",
    "## Define as ações\n",
    "assets = ['ITUB4.SA', 'BBAS3.SA', 'BBDC4.SA', 'BCSA34.SA']\n",
    "\n",
    "## Define a data início\n",
    "start = '2021-11-23'\n",
    "end = '2022-11-25'\n",
    "\n",
    "# Busca os preços ajustados\n",
    "prices = pdr.get_data_yahoo(assets, start = start, end = end)['Adj Close']\n",
    "\n",
    "# Calcula os retornos e retira dados faltantes\n",
    "returns = prices.pct_change().dropna()\n",
    "\n",
    "# Cria o objeto de portfolio\n",
    "port = rp.Portfolio(returns = returns)\n",
    "\n",
    "method_mu = 'hist'  # define o método de retornos histórico para calcular o retorno esperado\n",
    "\n",
    "method_cov = 'hist' # define o método de retornos histórico para calcular a matriz de covariância\n",
    "\n",
    "# Calcula os inputs do método de otimização\n",
    "port.assets_stats(method_mu = method_mu, method_cov = method_cov, d = 0.94)\n",
    "\n",
    "# Estima o portfolio ótimo\n",
    "\n",
    "model='Classic' # Modelo clássico de Markowitz\n",
    "rm = 'MV' # Medida de risco: mean-variance\n",
    "obj = 'MinRisk' # Função objetivo: Minimização de Risco\n",
    "\n",
    "w = port.optimization(model = model, rm = rm, obj = obj)\n",
    "\n",
    "print(w * 100)"
   ]
  }
 ],
 "metadata": {
  "kernelspec": {
   "display_name": "Python 3 (ipykernel)",
   "language": "python",
   "name": "python3"
  },
  "language_info": {
   "codemirror_mode": {
    "name": "ipython",
    "version": 3
   },
   "file_extension": ".py",
   "mimetype": "text/x-python",
   "name": "python",
   "nbconvert_exporter": "python",
   "pygments_lexer": "ipython3",
   "version": "3.9.13"
  }
 },
 "nbformat": 4,
 "nbformat_minor": 5
}
